{
 "cells": [
  {
   "cell_type": "markdown",
   "metadata": {},
   "source": [
    "### Data engineering"
   ]
  },
  {
   "cell_type": "code",
   "execution_count": 96,
   "metadata": {
    "collapsed": true
   },
   "outputs": [],
   "source": [
    "import pandas as pd\n",
    "\n",
    "link = \"https://en.wikipedia.org/wiki/List_of_postal_codes_of_Canada:_M\"\n",
    "\n",
    "table = pd.read_html(link,header=0)[0]"
   ]
  },
  {
   "cell_type": "code",
   "execution_count": 97,
   "metadata": {},
   "outputs": [
    {
     "data": {
      "text/html": [
       "<div>\n",
       "<style scoped>\n",
       "    .dataframe tbody tr th:only-of-type {\n",
       "        vertical-align: middle;\n",
       "    }\n",
       "\n",
       "    .dataframe tbody tr th {\n",
       "        vertical-align: top;\n",
       "    }\n",
       "\n",
       "    .dataframe thead th {\n",
       "        text-align: right;\n",
       "    }\n",
       "</style>\n",
       "<table border=\"1\" class=\"dataframe\">\n",
       "  <thead>\n",
       "    <tr style=\"text-align: right;\">\n",
       "      <th></th>\n",
       "      <th>Postcode</th>\n",
       "      <th>Borough</th>\n",
       "      <th>Neighbourhood</th>\n",
       "    </tr>\n",
       "  </thead>\n",
       "  <tbody>\n",
       "    <tr>\n",
       "      <th>0</th>\n",
       "      <td>M1A</td>\n",
       "      <td>Not assigned</td>\n",
       "      <td>Not assigned</td>\n",
       "    </tr>\n",
       "    <tr>\n",
       "      <th>1</th>\n",
       "      <td>M2A</td>\n",
       "      <td>Not assigned</td>\n",
       "      <td>Not assigned</td>\n",
       "    </tr>\n",
       "    <tr>\n",
       "      <th>2</th>\n",
       "      <td>M3A</td>\n",
       "      <td>North York</td>\n",
       "      <td>Parkwoods</td>\n",
       "    </tr>\n",
       "    <tr>\n",
       "      <th>3</th>\n",
       "      <td>M4A</td>\n",
       "      <td>North York</td>\n",
       "      <td>Victoria Village</td>\n",
       "    </tr>\n",
       "    <tr>\n",
       "      <th>4</th>\n",
       "      <td>M5A</td>\n",
       "      <td>Downtown Toronto</td>\n",
       "      <td>Harbourfront</td>\n",
       "    </tr>\n",
       "  </tbody>\n",
       "</table>\n",
       "</div>"
      ],
      "text/plain": [
       "  Postcode           Borough     Neighbourhood\n",
       "0      M1A      Not assigned      Not assigned\n",
       "1      M2A      Not assigned      Not assigned\n",
       "2      M3A        North York         Parkwoods\n",
       "3      M4A        North York  Victoria Village\n",
       "4      M5A  Downtown Toronto      Harbourfront"
      ]
     },
     "execution_count": 97,
     "metadata": {},
     "output_type": "execute_result"
    }
   ],
   "source": [
    "table.head()"
   ]
  },
  {
   "cell_type": "markdown",
   "metadata": {},
   "source": [
    "Only process the cells that have an assigned borough. Ignore cells with a borough that is Not assigned."
   ]
  },
  {
   "cell_type": "code",
   "execution_count": 98,
   "metadata": {},
   "outputs": [],
   "source": [
    "table = table[table.Borough != \"Not assigned\"]"
   ]
  },
  {
   "cell_type": "code",
   "execution_count": 99,
   "metadata": {},
   "outputs": [
    {
     "data": {
      "text/html": [
       "<div>\n",
       "<style scoped>\n",
       "    .dataframe tbody tr th:only-of-type {\n",
       "        vertical-align: middle;\n",
       "    }\n",
       "\n",
       "    .dataframe tbody tr th {\n",
       "        vertical-align: top;\n",
       "    }\n",
       "\n",
       "    .dataframe thead th {\n",
       "        text-align: right;\n",
       "    }\n",
       "</style>\n",
       "<table border=\"1\" class=\"dataframe\">\n",
       "  <thead>\n",
       "    <tr style=\"text-align: right;\">\n",
       "      <th></th>\n",
       "      <th>Postcode</th>\n",
       "      <th>Borough</th>\n",
       "      <th>Neighbourhood</th>\n",
       "    </tr>\n",
       "  </thead>\n",
       "  <tbody>\n",
       "    <tr>\n",
       "      <th>2</th>\n",
       "      <td>M3A</td>\n",
       "      <td>North York</td>\n",
       "      <td>Parkwoods</td>\n",
       "    </tr>\n",
       "    <tr>\n",
       "      <th>3</th>\n",
       "      <td>M4A</td>\n",
       "      <td>North York</td>\n",
       "      <td>Victoria Village</td>\n",
       "    </tr>\n",
       "    <tr>\n",
       "      <th>4</th>\n",
       "      <td>M5A</td>\n",
       "      <td>Downtown Toronto</td>\n",
       "      <td>Harbourfront</td>\n",
       "    </tr>\n",
       "    <tr>\n",
       "      <th>5</th>\n",
       "      <td>M5A</td>\n",
       "      <td>Downtown Toronto</td>\n",
       "      <td>Regent Park</td>\n",
       "    </tr>\n",
       "    <tr>\n",
       "      <th>6</th>\n",
       "      <td>M6A</td>\n",
       "      <td>North York</td>\n",
       "      <td>Lawrence Heights</td>\n",
       "    </tr>\n",
       "  </tbody>\n",
       "</table>\n",
       "</div>"
      ],
      "text/plain": [
       "  Postcode           Borough     Neighbourhood\n",
       "2      M3A        North York         Parkwoods\n",
       "3      M4A        North York  Victoria Village\n",
       "4      M5A  Downtown Toronto      Harbourfront\n",
       "5      M5A  Downtown Toronto       Regent Park\n",
       "6      M6A        North York  Lawrence Heights"
      ]
     },
     "execution_count": 99,
     "metadata": {},
     "output_type": "execute_result"
    }
   ],
   "source": [
    "table.head()"
   ]
  },
  {
   "cell_type": "markdown",
   "metadata": {},
   "source": [
    "More than one neighborhood can exist in one postal code area. For example, in the table on the Wikipedia page, you will notice that M5A is listed twice and has two neighborhoods: Harbourfront and Regent Park. These two rows will be combined into one row with the neighborhoods separated with a comma."
   ]
  },
  {
   "cell_type": "code",
   "execution_count": 100,
   "metadata": {},
   "outputs": [],
   "source": [
    "table_agg = table.groupby(['Postcode', 'Borough'])['Neighbourhood'].apply(lambda x: \"%s\" % ', '.join(x))"
   ]
  },
  {
   "cell_type": "code",
   "execution_count": 101,
   "metadata": {},
   "outputs": [
    {
     "data": {
      "text/plain": [
       "Postcode  Borough    \n",
       "M1B       Scarborough                            Rouge, Malvern\n",
       "M1C       Scarborough    Highland Creek, Rouge Hill, Port Union\n",
       "M1E       Scarborough         Guildwood, Morningside, West Hill\n",
       "M1G       Scarborough                                    Woburn\n",
       "M1H       Scarborough                                 Cedarbrae\n",
       "Name: Neighbourhood, dtype: object"
      ]
     },
     "execution_count": 101,
     "metadata": {},
     "output_type": "execute_result"
    }
   ],
   "source": [
    "table_agg.head()"
   ]
  },
  {
   "cell_type": "code",
   "execution_count": 102,
   "metadata": {},
   "outputs": [
    {
     "data": {
      "text/plain": [
       "pandas.core.series.Series"
      ]
     },
     "execution_count": 102,
     "metadata": {},
     "output_type": "execute_result"
    }
   ],
   "source": [
    "type(table_agg)"
   ]
  },
  {
   "cell_type": "code",
   "execution_count": 103,
   "metadata": {},
   "outputs": [
    {
     "data": {
      "text/plain": [
       "MultiIndex(levels=[['M1B', 'M1C', 'M1E', 'M1G', 'M1H', 'M1J', 'M1K', 'M1L', 'M1M', 'M1N', 'M1P', 'M1R', 'M1S', 'M1T', 'M1V', 'M1W', 'M1X', 'M2H', 'M2J', 'M2K', 'M2L', 'M2M', 'M2N', 'M2P', 'M2R', 'M3A', 'M3B', 'M3C', 'M3H', 'M3J', 'M3K', 'M3L', 'M3M', 'M3N', 'M4A', 'M4B', 'M4C', 'M4E', 'M4G', 'M4H', 'M4J', 'M4K', 'M4L', 'M4M', 'M4N', 'M4P', 'M4R', 'M4S', 'M4T', 'M4V', 'M4W', 'M4X', 'M4Y', 'M5A', 'M5B', 'M5C', 'M5E', 'M5G', 'M5H', 'M5J', 'M5K', 'M5L', 'M5M', 'M5N', 'M5P', 'M5R', 'M5S', 'M5T', 'M5V', 'M5W', 'M5X', 'M6A', 'M6B', 'M6C', 'M6E', 'M6G', 'M6H', 'M6J', 'M6K', 'M6L', 'M6M', 'M6N', 'M6P', 'M6R', 'M6S', 'M7A', 'M7R', 'M7Y', 'M8V', 'M8W', 'M8X', 'M8Y', 'M8Z', 'M9A', 'M9B', 'M9C', 'M9L', 'M9M', 'M9N', 'M9P', 'M9R', 'M9V', 'M9W'], ['Central Toronto', 'Downtown Toronto', 'East Toronto', 'East York', 'Etobicoke', 'Mississauga', 'North York', 'Queen's Park', 'Scarborough', 'West Toronto', 'York']],\n",
       "           codes=[[0, 1, 2, 3, 4, 5, 6, 7, 8, 9, 10, 11, 12, 13, 14, 15, 16, 17, 18, 19, 20, 21, 22, 23, 24, 25, 26, 27, 28, 29, 30, 31, 32, 33, 34, 35, 36, 37, 38, 39, 40, 41, 42, 43, 44, 45, 46, 47, 48, 49, 50, 51, 52, 53, 54, 55, 56, 57, 58, 59, 60, 61, 62, 63, 64, 65, 66, 67, 68, 69, 70, 71, 72, 73, 74, 75, 76, 77, 78, 79, 80, 81, 82, 83, 84, 85, 86, 87, 88, 89, 90, 91, 92, 93, 94, 95, 96, 97, 98, 99, 100, 101, 102], [8, 8, 8, 8, 8, 8, 8, 8, 8, 8, 8, 8, 8, 8, 8, 8, 8, 6, 6, 6, 6, 6, 6, 6, 6, 6, 6, 6, 6, 6, 6, 6, 6, 6, 6, 3, 3, 2, 3, 3, 3, 2, 2, 2, 0, 0, 0, 0, 0, 0, 1, 1, 1, 1, 1, 1, 1, 1, 1, 1, 1, 1, 6, 0, 0, 0, 1, 1, 1, 1, 1, 6, 6, 10, 10, 1, 9, 9, 9, 6, 10, 10, 9, 9, 9, 7, 5, 2, 4, 4, 4, 4, 4, 4, 4, 4, 6, 6, 10, 4, 4, 4, 4]],\n",
       "           names=['Postcode', 'Borough'])"
      ]
     },
     "execution_count": 103,
     "metadata": {},
     "output_type": "execute_result"
    }
   ],
   "source": [
    "table_agg.index"
   ]
  },
  {
   "cell_type": "code",
   "execution_count": 104,
   "metadata": {},
   "outputs": [],
   "source": [
    "df = table_agg.reset_index()"
   ]
  },
  {
   "cell_type": "code",
   "execution_count": 105,
   "metadata": {},
   "outputs": [
    {
     "data": {
      "text/plain": [
       "pandas.core.frame.DataFrame"
      ]
     },
     "execution_count": 105,
     "metadata": {},
     "output_type": "execute_result"
    }
   ],
   "source": [
    "type(df)"
   ]
  },
  {
   "cell_type": "code",
   "execution_count": 106,
   "metadata": {},
   "outputs": [
    {
     "data": {
      "text/html": [
       "<div>\n",
       "<style scoped>\n",
       "    .dataframe tbody tr th:only-of-type {\n",
       "        vertical-align: middle;\n",
       "    }\n",
       "\n",
       "    .dataframe tbody tr th {\n",
       "        vertical-align: top;\n",
       "    }\n",
       "\n",
       "    .dataframe thead th {\n",
       "        text-align: right;\n",
       "    }\n",
       "</style>\n",
       "<table border=\"1\" class=\"dataframe\">\n",
       "  <thead>\n",
       "    <tr style=\"text-align: right;\">\n",
       "      <th></th>\n",
       "      <th>Postcode</th>\n",
       "      <th>Borough</th>\n",
       "      <th>Neighbourhood</th>\n",
       "    </tr>\n",
       "  </thead>\n",
       "  <tbody>\n",
       "    <tr>\n",
       "      <th>53</th>\n",
       "      <td>M5A</td>\n",
       "      <td>Downtown Toronto</td>\n",
       "      <td>Harbourfront, Regent Park</td>\n",
       "    </tr>\n",
       "  </tbody>\n",
       "</table>\n",
       "</div>"
      ],
      "text/plain": [
       "   Postcode           Borough              Neighbourhood\n",
       "53      M5A  Downtown Toronto  Harbourfront, Regent Park"
      ]
     },
     "execution_count": 106,
     "metadata": {},
     "output_type": "execute_result"
    }
   ],
   "source": [
    "df[df.Postcode == 'M5A']"
   ]
  },
  {
   "cell_type": "markdown",
   "metadata": {},
   "source": [
    "If a cell has a borough but a Not assigned neighborhood, then the neighborhood will be the same as the borough. So for the 9th cell in the table on the Wikipedia page, the value of the Borough and the Neighborhood columns will be Queen's Park."
   ]
  },
  {
   "cell_type": "code",
   "execution_count": 107,
   "metadata": {},
   "outputs": [
    {
     "data": {
      "text/html": [
       "<div>\n",
       "<style scoped>\n",
       "    .dataframe tbody tr th:only-of-type {\n",
       "        vertical-align: middle;\n",
       "    }\n",
       "\n",
       "    .dataframe tbody tr th {\n",
       "        vertical-align: top;\n",
       "    }\n",
       "\n",
       "    .dataframe thead th {\n",
       "        text-align: right;\n",
       "    }\n",
       "</style>\n",
       "<table border=\"1\" class=\"dataframe\">\n",
       "  <thead>\n",
       "    <tr style=\"text-align: right;\">\n",
       "      <th></th>\n",
       "      <th>Postcode</th>\n",
       "      <th>Borough</th>\n",
       "      <th>Neighbourhood</th>\n",
       "    </tr>\n",
       "  </thead>\n",
       "  <tbody>\n",
       "    <tr>\n",
       "      <th>85</th>\n",
       "      <td>M7A</td>\n",
       "      <td>Queen's Park</td>\n",
       "      <td>Not assigned</td>\n",
       "    </tr>\n",
       "  </tbody>\n",
       "</table>\n",
       "</div>"
      ],
      "text/plain": [
       "   Postcode       Borough Neighbourhood\n",
       "85      M7A  Queen's Park  Not assigned"
      ]
     },
     "execution_count": 107,
     "metadata": {},
     "output_type": "execute_result"
    }
   ],
   "source": [
    "df[df.Neighbourhood == 'Not assigned']"
   ]
  },
  {
   "cell_type": "code",
   "execution_count": 108,
   "metadata": {},
   "outputs": [],
   "source": [
    "df.Neighbourhood[df.Neighbourhood == 'Not assigned'] = df.Borough[df.Neighbourhood == 'Not assigned']"
   ]
  },
  {
   "cell_type": "code",
   "execution_count": 109,
   "metadata": {},
   "outputs": [
    {
     "data": {
      "text/html": [
       "<div>\n",
       "<style scoped>\n",
       "    .dataframe tbody tr th:only-of-type {\n",
       "        vertical-align: middle;\n",
       "    }\n",
       "\n",
       "    .dataframe tbody tr th {\n",
       "        vertical-align: top;\n",
       "    }\n",
       "\n",
       "    .dataframe thead th {\n",
       "        text-align: right;\n",
       "    }\n",
       "</style>\n",
       "<table border=\"1\" class=\"dataframe\">\n",
       "  <thead>\n",
       "    <tr style=\"text-align: right;\">\n",
       "      <th></th>\n",
       "      <th>Postcode</th>\n",
       "      <th>Borough</th>\n",
       "      <th>Neighbourhood</th>\n",
       "    </tr>\n",
       "  </thead>\n",
       "  <tbody>\n",
       "    <tr>\n",
       "      <th>85</th>\n",
       "      <td>M7A</td>\n",
       "      <td>Queen's Park</td>\n",
       "      <td>Queen's Park</td>\n",
       "    </tr>\n",
       "  </tbody>\n",
       "</table>\n",
       "</div>"
      ],
      "text/plain": [
       "   Postcode       Borough Neighbourhood\n",
       "85      M7A  Queen's Park  Queen's Park"
      ]
     },
     "execution_count": 109,
     "metadata": {},
     "output_type": "execute_result"
    }
   ],
   "source": [
    "df[df.Borough == \"Queen's Park\"]"
   ]
  },
  {
   "cell_type": "code",
   "execution_count": 110,
   "metadata": {},
   "outputs": [
    {
     "data": {
      "text/plain": [
       "(103, 3)"
      ]
     },
     "execution_count": 110,
     "metadata": {},
     "output_type": "execute_result"
    }
   ],
   "source": [
    "df.shape"
   ]
  },
  {
   "cell_type": "markdown",
   "metadata": {},
   "source": [
    "### Add geolocation data"
   ]
  },
  {
   "cell_type": "markdown",
   "metadata": {},
   "source": [
    "Now that you have built a dataframe of the postal code of each neighborhood along with the borough name and neighborhood name, in order to utilize the Foursquare location data, we need to get the latitude and the longitude coordinates of each neighborhood."
   ]
  },
  {
   "cell_type": "markdown",
   "metadata": {},
   "source": [
    "We will use the Geocoder Python package : https://geocoder.readthedocs.io/index.html.\n",
    "\n",
    "The problem with this Package is you have to be persistent sometimes in order to get the geographical coordinates of a given postal code. So you can make a call to get the latitude and longitude coordinates of a given postal code and the result would be None, and then make the call again and you would get the coordinates. So, in order to make sure that you get the coordinates for all of our neighborhoods, you can run a while loop for each postal code. Taking postal code M5G as an example, your code would look something like this:"
   ]
  },
  {
   "cell_type": "code",
   "execution_count": 114,
   "metadata": {},
   "outputs": [],
   "source": [
    "# #!pip install geocoder\n",
    "\n",
    "# import geocoder # import geocoder\n",
    "\n",
    "# # initialize your variable to None\n",
    "# lat_lng_coords = None\n",
    "\n",
    "# postal_code = 'M5G'\n",
    "\n",
    "# # loop until you get the coordinates\n",
    "# while(lat_lng_coords is None):\n",
    "#   g = geocoder.google('{}, Toronto, Ontario'.format(postal_code))\n",
    "#   lat_lng_coords = g.latlng\n",
    "\n",
    "# latitude = lat_lng_coords[0]\n",
    "# longitude = lat_lng_coords[1]"
   ]
  },
  {
   "cell_type": "markdown",
   "metadata": {},
   "source": [
    "The problem with this Package is you have to be persistent sometimes in order to get the geographical coordinates of a given postal code. So you can make a call to get the latitude and longitude coordinates of a given postal code and the result would be None, and then make the call again and you would get the coordinates. So, in order to make sure that you get the coordinates for all of our neighborhoods, you can run a while loop for each postal code. Taking postal code M5G as an example, your code would look something like this:\n",
    "\n",
    "\u0001\u0001\n",
    "Given that this package can be very unreliable, in case you are not able to get the geographical coordinates of the neighborhoods using the Geocoder package, here is a link to a csv file that has the geographical coordinates of each postal code: http://cocl.us/Geospatial_data"
   ]
  },
  {
   "cell_type": "code",
   "execution_count": 117,
   "metadata": {},
   "outputs": [],
   "source": [
    "geospatial_data = pd.read_csv('C:\\\\Users\\\\andreea.madalina\\\\Downloads\\\\Geospatial_Coordinates.csv')"
   ]
  },
  {
   "cell_type": "code",
   "execution_count": 118,
   "metadata": {},
   "outputs": [
    {
     "data": {
      "text/html": [
       "<div>\n",
       "<style scoped>\n",
       "    .dataframe tbody tr th:only-of-type {\n",
       "        vertical-align: middle;\n",
       "    }\n",
       "\n",
       "    .dataframe tbody tr th {\n",
       "        vertical-align: top;\n",
       "    }\n",
       "\n",
       "    .dataframe thead th {\n",
       "        text-align: right;\n",
       "    }\n",
       "</style>\n",
       "<table border=\"1\" class=\"dataframe\">\n",
       "  <thead>\n",
       "    <tr style=\"text-align: right;\">\n",
       "      <th></th>\n",
       "      <th>Postal Code</th>\n",
       "      <th>Latitude</th>\n",
       "      <th>Longitude</th>\n",
       "    </tr>\n",
       "  </thead>\n",
       "  <tbody>\n",
       "    <tr>\n",
       "      <th>0</th>\n",
       "      <td>M1B</td>\n",
       "      <td>43.806686</td>\n",
       "      <td>-79.194353</td>\n",
       "    </tr>\n",
       "    <tr>\n",
       "      <th>1</th>\n",
       "      <td>M1C</td>\n",
       "      <td>43.784535</td>\n",
       "      <td>-79.160497</td>\n",
       "    </tr>\n",
       "    <tr>\n",
       "      <th>2</th>\n",
       "      <td>M1E</td>\n",
       "      <td>43.763573</td>\n",
       "      <td>-79.188711</td>\n",
       "    </tr>\n",
       "    <tr>\n",
       "      <th>3</th>\n",
       "      <td>M1G</td>\n",
       "      <td>43.770992</td>\n",
       "      <td>-79.216917</td>\n",
       "    </tr>\n",
       "    <tr>\n",
       "      <th>4</th>\n",
       "      <td>M1H</td>\n",
       "      <td>43.773136</td>\n",
       "      <td>-79.239476</td>\n",
       "    </tr>\n",
       "  </tbody>\n",
       "</table>\n",
       "</div>"
      ],
      "text/plain": [
       "  Postal Code   Latitude  Longitude\n",
       "0         M1B  43.806686 -79.194353\n",
       "1         M1C  43.784535 -79.160497\n",
       "2         M1E  43.763573 -79.188711\n",
       "3         M1G  43.770992 -79.216917\n",
       "4         M1H  43.773136 -79.239476"
      ]
     },
     "execution_count": 118,
     "metadata": {},
     "output_type": "execute_result"
    }
   ],
   "source": [
    "geospatial_data.head()"
   ]
  },
  {
   "cell_type": "code",
   "execution_count": 148,
   "metadata": {},
   "outputs": [],
   "source": [
    "df_geo = pd.merge(df, geospatial_data, how = \"left\", left_on = 'Postcode', right_on ='Postal Code')\n",
    "df_geo = df_geo.drop(columns = ['Postal Code'])"
   ]
  },
  {
   "cell_type": "code",
   "execution_count": 149,
   "metadata": {},
   "outputs": [
    {
     "data": {
      "text/html": [
       "<div>\n",
       "<style scoped>\n",
       "    .dataframe tbody tr th:only-of-type {\n",
       "        vertical-align: middle;\n",
       "    }\n",
       "\n",
       "    .dataframe tbody tr th {\n",
       "        vertical-align: top;\n",
       "    }\n",
       "\n",
       "    .dataframe thead th {\n",
       "        text-align: right;\n",
       "    }\n",
       "</style>\n",
       "<table border=\"1\" class=\"dataframe\">\n",
       "  <thead>\n",
       "    <tr style=\"text-align: right;\">\n",
       "      <th></th>\n",
       "      <th>Postcode</th>\n",
       "      <th>Borough</th>\n",
       "      <th>Neighbourhood</th>\n",
       "      <th>Latitude</th>\n",
       "      <th>Longitude</th>\n",
       "    </tr>\n",
       "  </thead>\n",
       "  <tbody>\n",
       "    <tr>\n",
       "      <th>0</th>\n",
       "      <td>M1B</td>\n",
       "      <td>Scarborough</td>\n",
       "      <td>Rouge, Malvern</td>\n",
       "      <td>43.806686</td>\n",
       "      <td>-79.194353</td>\n",
       "    </tr>\n",
       "    <tr>\n",
       "      <th>1</th>\n",
       "      <td>M1C</td>\n",
       "      <td>Scarborough</td>\n",
       "      <td>Highland Creek, Rouge Hill, Port Union</td>\n",
       "      <td>43.784535</td>\n",
       "      <td>-79.160497</td>\n",
       "    </tr>\n",
       "    <tr>\n",
       "      <th>2</th>\n",
       "      <td>M1E</td>\n",
       "      <td>Scarborough</td>\n",
       "      <td>Guildwood, Morningside, West Hill</td>\n",
       "      <td>43.763573</td>\n",
       "      <td>-79.188711</td>\n",
       "    </tr>\n",
       "    <tr>\n",
       "      <th>3</th>\n",
       "      <td>M1G</td>\n",
       "      <td>Scarborough</td>\n",
       "      <td>Woburn</td>\n",
       "      <td>43.770992</td>\n",
       "      <td>-79.216917</td>\n",
       "    </tr>\n",
       "    <tr>\n",
       "      <th>4</th>\n",
       "      <td>M1H</td>\n",
       "      <td>Scarborough</td>\n",
       "      <td>Cedarbrae</td>\n",
       "      <td>43.773136</td>\n",
       "      <td>-79.239476</td>\n",
       "    </tr>\n",
       "  </tbody>\n",
       "</table>\n",
       "</div>"
      ],
      "text/plain": [
       "  Postcode      Borough                           Neighbourhood   Latitude  \\\n",
       "0      M1B  Scarborough                          Rouge, Malvern  43.806686   \n",
       "1      M1C  Scarborough  Highland Creek, Rouge Hill, Port Union  43.784535   \n",
       "2      M1E  Scarborough       Guildwood, Morningside, West Hill  43.763573   \n",
       "3      M1G  Scarborough                                  Woburn  43.770992   \n",
       "4      M1H  Scarborough                               Cedarbrae  43.773136   \n",
       "\n",
       "   Longitude  \n",
       "0 -79.194353  \n",
       "1 -79.160497  \n",
       "2 -79.188711  \n",
       "3 -79.216917  \n",
       "4 -79.239476  "
      ]
     },
     "execution_count": 149,
     "metadata": {},
     "output_type": "execute_result"
    }
   ],
   "source": [
    "df_geo.head()"
   ]
  },
  {
   "cell_type": "markdown",
   "metadata": {},
   "source": [
    "### Explore and cluster the neighborhoods\n",
    "\n",
    "Keep all boroughs"
   ]
  },
  {
   "cell_type": "markdown",
   "metadata": {},
   "source": [
    "Use for clustering only Latitude and Longitude"
   ]
  },
  {
   "cell_type": "code",
   "execution_count": 150,
   "metadata": {},
   "outputs": [],
   "source": [
    "df_clust = df_geo.drop(columns = ['Postcode', 'Borough', 'Neighbourhood'])"
   ]
  },
  {
   "cell_type": "markdown",
   "metadata": {},
   "source": [
    "Find the optimal number of clusters using the elbow method"
   ]
  },
  {
   "cell_type": "code",
   "execution_count": 151,
   "metadata": {
    "collapsed": true
   },
   "outputs": [],
   "source": [
    "Sum_of_squared_distances = []\n",
    "K = range(1,15)\n",
    "for k in K:\n",
    "    km = KMeans(n_clusters=k)\n",
    "    km = km.fit(df_clust)\n",
    "    Sum_of_squared_distances.append(km.inertia_)"
   ]
  },
  {
   "cell_type": "code",
   "execution_count": 152,
   "metadata": {},
   "outputs": [
    {
     "data": {
      "image/png": "[encoded data removed]",
      "text/plain": [
       "<matplotlib.figure.Figure at 0x29167028208>"
      ]
     },
     "metadata": {},
     "output_type": "display_data"
    }
   ],
   "source": [
    "plt.plot(K, Sum_of_squared_distances, 'bx-')\n",
    "plt.xlabel('k')\n",
    "plt.ylabel('Sum_of_squared_distances')\n",
    "plt.title('Elbow Method For Optimal k')\n",
    "plt.show()"
   ]
  },
  {
   "cell_type": "markdown",
   "metadata": {},
   "source": [
    "In the plot above the elbow is at k=4 indicating the optimal k for this dataset is 4"
   ]
  },
  {
   "cell_type": "code",
   "execution_count": 153,
   "metadata": {},
   "outputs": [
    {
     "data": {
      "text/plain": [
       "array([2, 2, 2, 2, 2, 2, 2, 2, 2, 2, 2, 2, 2, 2, 2, 2, 2, 1, 1, 1, 1, 1,\n",
       "       1, 1, 1, 2, 1, 0, 1, 1, 1, 3, 3, 3, 2, 2, 0, 0, 0, 0, 0, 0, 0, 0,\n",
       "       1, 1, 1, 0, 0, 0, 0, 0, 0, 0, 0, 0, 0, 0, 0, 0, 0, 0, 1, 1, 0, 0,\n",
       "       0, 0, 0, 0, 0, 1, 1, 1, 1, 0, 0, 0, 0, 3, 3, 3, 3, 3, 3, 0, 3, 0,\n",
       "       3, 3, 3, 3, 3, 3, 3, 3, 3, 3, 3, 3, 3, 3, 3])"
      ]
     },
     "execution_count": 153,
     "metadata": {},
     "output_type": "execute_result"
    }
   ],
   "source": [
    "# set number of clusters\n",
    "kclusters = 4\n",
    "\n",
    "# run k-means clustering\n",
    "kmeans = KMeans(n_clusters=kclusters, random_state=0).fit(df_clust)\n",
    "\n",
    "# check cluster labels generated for each row in the dataframe\n",
    "kmeans.labels_ "
   ]
  },
  {
   "cell_type": "markdown",
   "metadata": {},
   "source": [
    "### Generate maps to visualize the neighborhoods and how they cluster together."
   ]
  },
  {
   "cell_type": "code",
   "execution_count": 154,
   "metadata": {},
   "outputs": [],
   "source": [
    "# add clustering labels\n",
    "df_geo.insert(0, 'Cluster Labels', kmeans.labels_)"
   ]
  },
  {
   "cell_type": "code",
   "execution_count": 155,
   "metadata": {},
   "outputs": [
    {
     "data": {
      "text/html": [
       "<div>\n",
       "<style scoped>\n",
       "    .dataframe tbody tr th:only-of-type {\n",
       "        vertical-align: middle;\n",
       "    }\n",
       "\n",
       "    .dataframe tbody tr th {\n",
       "        vertical-align: top;\n",
       "    }\n",
       "\n",
       "    .dataframe thead th {\n",
       "        text-align: right;\n",
       "    }\n",
       "</style>\n",
       "<table border=\"1\" class=\"dataframe\">\n",
       "  <thead>\n",
       "    <tr style=\"text-align: right;\">\n",
       "      <th></th>\n",
       "      <th>Cluster Labels</th>\n",
       "      <th>Postcode</th>\n",
       "      <th>Borough</th>\n",
       "      <th>Neighbourhood</th>\n",
       "      <th>Latitude</th>\n",
       "      <th>Longitude</th>\n",
       "    </tr>\n",
       "  </thead>\n",
       "  <tbody>\n",
       "    <tr>\n",
       "      <th>0</th>\n",
       "      <td>2</td>\n",
       "      <td>M1B</td>\n",
       "      <td>Scarborough</td>\n",
       "      <td>Rouge, Malvern</td>\n",
       "      <td>43.806686</td>\n",
       "      <td>-79.194353</td>\n",
       "    </tr>\n",
       "    <tr>\n",
       "      <th>1</th>\n",
       "      <td>2</td>\n",
       "      <td>M1C</td>\n",
       "      <td>Scarborough</td>\n",
       "      <td>Highland Creek, Rouge Hill, Port Union</td>\n",
       "      <td>43.784535</td>\n",
       "      <td>-79.160497</td>\n",
       "    </tr>\n",
       "    <tr>\n",
       "      <th>2</th>\n",
       "      <td>2</td>\n",
       "      <td>M1E</td>\n",
       "      <td>Scarborough</td>\n",
       "      <td>Guildwood, Morningside, West Hill</td>\n",
       "      <td>43.763573</td>\n",
       "      <td>-79.188711</td>\n",
       "    </tr>\n",
       "    <tr>\n",
       "      <th>3</th>\n",
       "      <td>2</td>\n",
       "      <td>M1G</td>\n",
       "      <td>Scarborough</td>\n",
       "      <td>Woburn</td>\n",
       "      <td>43.770992</td>\n",
       "      <td>-79.216917</td>\n",
       "    </tr>\n",
       "    <tr>\n",
       "      <th>4</th>\n",
       "      <td>2</td>\n",
       "      <td>M1H</td>\n",
       "      <td>Scarborough</td>\n",
       "      <td>Cedarbrae</td>\n",
       "      <td>43.773136</td>\n",
       "      <td>-79.239476</td>\n",
       "    </tr>\n",
       "  </tbody>\n",
       "</table>\n",
       "</div>"
      ],
      "text/plain": [
       "   Cluster Labels Postcode      Borough  \\\n",
       "0               2      M1B  Scarborough   \n",
       "1               2      M1C  Scarborough   \n",
       "2               2      M1E  Scarborough   \n",
       "3               2      M1G  Scarborough   \n",
       "4               2      M1H  Scarborough   \n",
       "\n",
       "                            Neighbourhood   Latitude  Longitude  \n",
       "0                          Rouge, Malvern  43.806686 -79.194353  \n",
       "1  Highland Creek, Rouge Hill, Port Union  43.784535 -79.160497  \n",
       "2       Guildwood, Morningside, West Hill  43.763573 -79.188711  \n",
       "3                                  Woburn  43.770992 -79.216917  \n",
       "4                               Cedarbrae  43.773136 -79.239476  "
      ]
     },
     "execution_count": 155,
     "metadata": {},
     "output_type": "execute_result"
    }
   ],
   "source": [
    "df_geo.head()"
   ]
  },
  {
   "cell_type": "code",
   "execution_count": 160,
   "metadata": {},
   "outputs": [
    {
     "name": "stdout",
     "output_type": "stream",
     "text": [
      "The geograpical coordinate of Toronto are 43.653963, -79.387207.\n"
     ]
    }
   ],
   "source": [
    "from geopy.geocoders import Nominatim # convert an address into latitude and longitude values\n",
    "\n",
    "address = 'Toronto'\n",
    "\n",
    "geolocator = Nominatim(user_agent=\"ny_explorer\")\n",
    "location = geolocator.geocode(address)\n",
    "latitude = location.latitude\n",
    "longitude = location.longitude\n",
    "print('The geograpical coordinate of Toronto are {}, {}.'.format(latitude, longitude))"
   ]
  },
  {
   "cell_type": "code",
   "execution_count": 165,
   "metadata": {},
   "outputs": [
    {
     "data": {
      "text/html": [
       "<div style=\"width:100%;\"><div style=\"position:relative;width:100%;height:0;padding-bottom:60%;\"><iframe src=\"data:text/html;charset=utf-8;base64,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\" style=\"position:absolute;width:100%;height:100%;left:0;top:0;border:none !important;\" allowfullscreen webkitallowfullscreen mozallowfullscreen></iframe></div></div>"
      ],
      "text/plain": [
       "<folium.folium.Map at 0x2916749bc88>"
      ]
     },
     "execution_count": 165,
     "metadata": {},
     "output_type": "execute_result"
    }
   ],
   "source": [
    "#!pip install folium\n",
    "\n",
    "import folium\n",
    "import numpy as np\n",
    "\n",
    "# Matplotlib and associated plotting modules\n",
    "import matplotlib.cm as cm\n",
    "import matplotlib.colors as colors\n",
    "\n",
    "# create map\n",
    "map_clusters = folium.Map(location=[latitude, longitude], zoom_start=11)\n",
    "\n",
    "# set color scheme for the clusters\n",
    "x = np.arange(kclusters)\n",
    "ys = [i + x + (i*x)**2 for i in range(kclusters)]\n",
    "colors_array = cm.rainbow(np.linspace(0, 1, len(ys)))\n",
    "rainbow = [colors.rgb2hex(i) for i in colors_array]\n",
    "\n",
    "# add markers to the map\n",
    "markers_colors = []\n",
    "for lat, lon, poi, cluster in zip(df_geo['Latitude'], df_geo['Longitude'], df_geo['Neighbourhood'], df_geo['Cluster Labels']):\n",
    "    label = folium.Popup(str(poi) + ' Cluster ' + str(cluster), parse_html=True)\n",
    "    folium.CircleMarker(\n",
    "        [lat, lon],\n",
    "        radius=5,\n",
    "        popup=label,\n",
    "        color=rainbow[cluster-1],\n",
    "        fill=True,\n",
    "        fill_color=rainbow[cluster-1],\n",
    "        fill_opacity=0.7).add_to(map_clusters)\n",
    "       \n",
    "map_clusters"
   ]
  },
  {
   "cell_type": "code",
   "execution_count": null,
   "metadata": {
    "collapsed": true
   },
   "outputs": [],
   "source": []
  }
 ],
 "metadata": {
  "kernelspec": {
   "display_name": "Python 3",
   "language": "python",
   "name": "python3"
  },
  "language_info": {
   "codemirror_mode": {
    "name": "ipython",
    "version": 3
   },
   "file_extension": ".py",
   "mimetype": "text/x-python",
   "name": "python",
   "nbconvert_exporter": "python",
   "pygments_lexer": "ipython3",
   "version": "3.6.3"
  }
 },
 "nbformat": 4,
 "nbformat_minor": 2
}
